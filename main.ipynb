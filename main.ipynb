{
  "nbformat": 4,
  "nbformat_minor": 0,
  "metadata": {
    "colab": {
      "provenance": [],
      "authorship_tag": "ABX9TyOBtD/vH8a0f1hLdFwimI0T",
      "include_colab_link": true
    },
    "kernelspec": {
      "name": "python3",
      "display_name": "Python 3"
    },
    "language_info": {
      "name": "python"
    }
  },
  "cells": [
    {
      "cell_type": "markdown",
      "metadata": {
        "id": "view-in-github",
        "colab_type": "text"
      },
      "source": [
        "<a href=\"https://colab.research.google.com/github/Starath/MakalahMatdis/blob/main/main.ipynb\" target=\"_parent\"><img src=\"https://colab.research.google.com/assets/colab-badge.svg\" alt=\"Open In Colab\"/></a>"
      ]
    },
    {
      "cell_type": "code",
      "source": [
        "!pip install transitleastsquares --quiet\n",
        "!pip install lightkurve --quiet\n",
        "\n",
        "import numpy as np\n",
        "import matplotlib.pyplot as plt\n",
        "import time\n",
        "\n",
        "# Algoritma BLS\n",
        "from astropy.timeseries import BoxLeastSquares\n",
        "\n",
        "# Algoritma TLS\n",
        "from transitleastsquares import transitleastsquares, cleaned_array"
      ],
      "metadata": {
        "id": "qQUYLQY_Tvnd"
      },
      "execution_count": null,
      "outputs": []
    },
    {
      "cell_type": "code",
      "source": [
        "def generate_synthetic_lightcurve(num_points=1000,\n",
        "                                  transit_period=2.5,\n",
        "                                  transit_depth=0.01,\n",
        "                                  noise_level=0.001,\n",
        "                                  random_seed=42):\n",
        "    np.random.seed(random_seed)\n",
        "\n",
        "    # Waktu dalam hari, kita asumsikan data diambil selama ~10 hari\n",
        "    time = np.linspace(0, 10, num_points)\n",
        "\n",
        "    # Flux baseline = 1.0\n",
        "    flux = np.ones(num_points)\n",
        "\n",
        "    # Sisipkan transit sederhana berbentuk \"box\"\n",
        "    # Transit terjadi jika (time % transit_period) < transit_width\n",
        "    transit_width = 0.05\n",
        "    for i, t in enumerate(time):\n",
        "        phase = (t % transit_period)\n",
        "        if phase < transit_width:\n",
        "            flux[i] -= transit_depth  # turunkan flux sebesar transit_depth\n",
        "\n",
        "    # Tambahkan noise Gaussian\n",
        "    flux += np.random.normal(0, noise_level, num_points)\n",
        "\n",
        "    return time, flux\n"
      ],
      "metadata": {
        "id": "Zjsls9tEUJVh"
      },
      "execution_count": null,
      "outputs": []
    },
    {
      "cell_type": "code",
      "source": [
        "def run_bls(time, flux, period_min=0.5, period_max=5.0):\n",
        "    # Kita butuh array \"flux_err\" untuk BLS\n",
        "    flux_err = np.ones_like(flux) * 0.0001\n",
        "\n",
        "    # Inisialisasi objek BLS\n",
        "    model = BoxLeastSquares(time, flux, flux_err)\n",
        "\n",
        "    # Tentukan rentang periode (1000 titik periodik)\n",
        "    periods = np.linspace(period_min, period_max, 1000)\n",
        "\n",
        "    # Jalankan BLS (durasi transit diasumsikan tetap 0.02 hari untuk contoh)\n",
        "    result = model.power(periods, 0.02)\n",
        "    return result\n"
      ],
      "metadata": {
        "id": "5YOOBk3XUNT2"
      },
      "execution_count": null,
      "outputs": []
    },
    {
      "cell_type": "code",
      "source": [
        "def run_tls(time, flux):\n",
        "    \"\"\"\n",
        "    Menjalankan algoritma Transit Least Squares (TLS) untuk mencari periode transit.\n",
        "    Mengembalikan objek hasil TLS agar bisa dianalisis lebih lanjut.\n",
        "    \"\"\"\n",
        "    # Bersihkan data (mis. jika ada NaN)\n",
        "    time_clean, flux_clean = cleaned_array(time, flux)\n",
        "\n",
        "    # Inisialisasi model TLS\n",
        "    model = transitleastsquares(time_clean, flux_clean)\n",
        "\n",
        "    # Jalankan TLS (dengan semua parameter default)\n",
        "    results = model.power()\n",
        "    return results\n"
      ],
      "metadata": {
        "id": "qQpee9teUTbZ"
      },
      "execution_count": null,
      "outputs": []
    },
    {
      "cell_type": "code",
      "source": [
        "def time_module():\n",
        "    return time.perf_counter()"
      ],
      "metadata": {
        "id": "FHxaAZ8wUWRp"
      },
      "execution_count": null,
      "outputs": []
    },
    {
      "cell_type": "code",
      "source": [
        "def compare_time_complexity(n_sizes):\n",
        "    times_bls = []\n",
        "    times_tls = []\n",
        "\n",
        "    for n in n_sizes:\n",
        "        # Generate data dummy\n",
        "        time, flux = generate_synthetic_lightcurve(num_points=n)\n",
        "\n",
        "        # Timing BLS\n",
        "        start_bls = time_module()\n",
        "        _ = run_bls(time, flux)\n",
        "        end_bls = time_module()\n",
        "        times_bls.append(end_bls - start_bls)\n",
        "\n",
        "        # Timing TLS\n",
        "        start_tls = time_module()\n",
        "        _ = run_tls(time, flux)\n",
        "        end_tls = time_module()\n",
        "        times_tls.append(end_tls - start_tls)\n",
        "\n",
        "    return times_bls, times_tls"
      ],
      "metadata": {
        "id": "2MfaJ60fUY_v"
      },
      "execution_count": null,
      "outputs": []
    },
    {
      "cell_type": "code",
      "source": [
        "# Di sini kita uji pada beberapa ukuran data yang berbeda\n",
        "n_sizes = [500, 1000, 2000, 4000, 8000]\n",
        "\n",
        "# Panggil fungsi pembanding waktu\n",
        "times_bls, times_tls = compare_time_complexity(n_sizes)\n",
        "\n",
        "# Tampilkan hasil di layar\n",
        "print(\"Ukuran data (N):\", n_sizes)\n",
        "print(\"Waktu BLS (s):   \", times_bls)\n",
        "print(\"Waktu TLS (s):   \", times_tls)"
      ],
      "metadata": {
        "colab": {
          "base_uri": "https://localhost:8080/"
        },
        "id": "P5nh3FQHUa45",
        "outputId": "157266e3-e544-4efd-cf01-4e514bbfb609"
      },
      "execution_count": null,
      "outputs": [
        {
          "output_type": "stream",
          "name": "stdout",
          "text": [
            "Transit Least Squares TLS 1.32 (5 Apr 2024)\n",
            "Creating model cache for 31 durations\n",
            "Searching 499 data points, 713 periods from 0.602 to 4.99 days\n",
            "Using all 2 CPU threads\n"
          ]
        },
        {
          "output_type": "stream",
          "name": "stderr",
          "text": [
            "100%|██████████| 713/713 periods | 00:06<00:00\n"
          ]
        },
        {
          "output_type": "stream",
          "name": "stdout",
          "text": [
            "Searching for best T0 for period 2.50078 days\n",
            "Transit Least Squares TLS 1.32 (5 Apr 2024)\n",
            "Creating model cache for 31 durations\n",
            "Searching 999 data points, 714 periods from 0.602 to 4.995 days\n",
            "Using all 2 CPU threads\n"
          ]
        },
        {
          "output_type": "stream",
          "name": "stderr",
          "text": [
            "100%|██████████| 714/714 periods | 00:09<00:00\n"
          ]
        },
        {
          "output_type": "stream",
          "name": "stdout",
          "text": [
            "Searching for best T0 for period 2.50433 days\n",
            "Transit Least Squares TLS 1.32 (5 Apr 2024)\n",
            "Creating model cache for 31 durations\n",
            "Searching 1999 data points, 715 periods from 0.601 to 4.997 days\n",
            "Using all 2 CPU threads\n"
          ]
        },
        {
          "output_type": "stream",
          "name": "stderr",
          "text": [
            "100%|██████████| 715/715 periods | 00:07<00:00\n"
          ]
        },
        {
          "output_type": "stream",
          "name": "stdout",
          "text": [
            "Searching for best T0 for period 2.49754 days\n",
            "Transit Least Squares TLS 1.32 (5 Apr 2024)\n",
            "Creating model cache for 31 durations\n",
            "Searching 3999 data points, 715 periods from 0.601 to 4.999 days\n",
            "Using all 2 CPU threads\n"
          ]
        },
        {
          "output_type": "stream",
          "name": "stderr",
          "text": [
            "100%|██████████| 715/715 periods | 00:12<00:00\n"
          ]
        },
        {
          "output_type": "stream",
          "name": "stdout",
          "text": [
            "Searching for best T0 for period 2.49842 days\n",
            "Transit Least Squares TLS 1.32 (5 Apr 2024)\n",
            "Creating model cache for 31 durations\n",
            "Searching 7999 data points, 715 periods from 0.601 to 4.999 days\n",
            "Using all 2 CPU threads\n"
          ]
        },
        {
          "output_type": "stream",
          "name": "stderr",
          "text": [
            "100%|██████████| 715/715 periods | 00:15<00:00\n"
          ]
        },
        {
          "output_type": "stream",
          "name": "stdout",
          "text": [
            "Searching for best T0 for period 2.49886 days\n",
            "Ukuran data (N): [500, 1000, 2000, 4000, 8000]\n",
            "Waktu BLS (s):    [0.025312980000080643, 0.027359697000065353, 0.04358363599999393, 0.057830918000036036, 0.09643961799997669]\n",
            "Waktu TLS (s):    [6.5951527900001565, 9.539705378999997, 7.528058421999958, 12.744148288000133, 16.874778006000042]\n"
          ]
        }
      ]
    },
    {
      "cell_type": "code",
      "source": [
        "plt.figure(figsize=(8,5))\n",
        "plt.plot(n_sizes, times_bls, 'o--', label='BLS')\n",
        "plt.plot(n_sizes, times_tls, 's--', label='TLS')\n",
        "plt.xlabel('Jumlah Data (N)')\n",
        "plt.ylabel('Waktu Eksekusi (detik)')\n",
        "plt.title('Perbandingan Waktu Eksekusi BLS vs. TLS')\n",
        "plt.legend()\n",
        "plt.grid(True)\n",
        "plt.show()"
      ],
      "metadata": {
        "colab": {
          "base_uri": "https://localhost:8080/",
          "height": 487
        },
        "id": "Ljck39HiUhEz",
        "outputId": "77e5d6e7-7326-463d-b844-8c1c4b5b0aac"
      },
      "execution_count": null,
      "outputs": [
        {
          "output_type": "display_data",
          "data": {
            "text/plain": [
              "<Figure size 800x500 with 1 Axes>"
            ],
            "image/png": "[encoded data removed]"
          },
          "metadata": {}
        }
      ]
    }
  ]
}